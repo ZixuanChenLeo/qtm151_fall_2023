{
 "cells": [
  {
   "attachments": {},
   "cell_type": "markdown",
   "metadata": {},
   "source": [
    "# <span style=\"color:darkblue\"> QTM 151 - Quiz 5 </span>"
   ]
  },
  {
   "attachments": {},
   "cell_type": "markdown",
   "metadata": {},
   "source": [
    "## Try to submit as an HTML file"
   ]
  },
  {
   "attachments": {},
   "cell_type": "markdown",
   "metadata": {},
   "source": [
    "<font size=\"5\"> \n",
    "\n",
    "Print your Emory ID below"
   ]
  },
  {
   "cell_type": "code",
   "execution_count": 1,
   "metadata": {},
   "outputs": [
    {
     "name": "stdout",
     "output_type": "stream",
     "text": [
      "2631119\n"
     ]
    }
   ],
   "source": [
    "# Write your answer here\n",
    "print(\"2631119\")"
   ]
  },
  {
   "attachments": {},
   "cell_type": "markdown",
   "metadata": {},
   "source": [
    "<font size = \"5\" >\n",
    "This quiz is open book \n",
    "\n",
    "- You can use the lecture notes\n",
    "- You will get partial credit for attempting the questions\n",
    "- To get full credit, the code should run as intended\n",
    "- You should <span style=\"color:red\"> NOT </span> communicate with other students\n",
    "\n",
    "Print the following message: <br>\n",
    "\n",
    "\"I will abide by Emory's code of conduct\"\n",
    "\n",
    "\n",
    "**By printing the message, you acknowledge that you will abide by Emory's code of conduct.**\n"
   ]
  },
  {
   "cell_type": "code",
   "execution_count": 2,
   "metadata": {},
   "outputs": [
    {
     "name": "stdout",
     "output_type": "stream",
     "text": [
      "I will abide by Emory's code of conduct\n"
     ]
    }
   ],
   "source": [
    "# Write your answer here:\n",
    "print(\"I will abide by Emory's code of conduct\")"
   ]
  },
  {
   "attachments": {},
   "cell_type": "markdown",
   "metadata": {},
   "source": [
    "<font size = \"5\">\n",
    "\n",
    "Import the libraries \"matplotlib.pyplot\" and \"pandas\""
   ]
  },
  {
   "cell_type": "code",
   "execution_count": 3,
   "metadata": {},
   "outputs": [],
   "source": [
    "# Write your answer here\n",
    "import pandas as pd\n",
    "import matplotlib.pyplot as plt"
   ]
  },
  {
   "attachments": {},
   "cell_type": "markdown",
   "metadata": {},
   "source": [
    "<font size = \"5\">\n",
    "\n",
    "In this quiz you will work with data on exchange rates, <br>\n",
    "for the following currencies:\n",
    "\n",
    "- 1 euro (EUR) to dollar (USD)\n",
    "- 1 pound (GPB) to dollar (USD)."
   ]
  },
  {
   "attachments": {},
   "cell_type": "markdown",
   "metadata": {},
   "source": [
    "\n",
    "<font size = \"5\">\n",
    "\n",
    "(a) Import and parse dates\n",
    "\n",
    "<font size = \"3\">\n",
    "\n",
    "- Import the dataset \"currencies.csv\"\n",
    "- Parse the \"date_string\" column with ```pd.to_datetime()```\n",
    "- To get full points, set the \"format\" option using wildcards as in Lecture 20.\n"
   ]
  },
  {
   "cell_type": "code",
   "execution_count": 4,
   "metadata": {},
   "outputs": [],
   "source": [
    "# Write your own code\n",
    "currencies = pd.read_csv(\"data_raw/currencies.csv\")"
   ]
  },
  {
   "cell_type": "code",
   "execution_count": 35,
   "metadata": {},
   "outputs": [],
   "source": [
    "currencies[\"date\"] = pd.to_datetime(currencies[\"date_string\"], format= \"%A, %b %d, %Y\")"
   ]
  },
  {
   "cell_type": "code",
   "execution_count": 33,
   "metadata": {},
   "outputs": [
    {
     "data": {
      "text/html": [
       "<div>\n",
       "<style scoped>\n",
       "    .dataframe tbody tr th:only-of-type {\n",
       "        vertical-align: middle;\n",
       "    }\n",
       "\n",
       "    .dataframe tbody tr th {\n",
       "        vertical-align: top;\n",
       "    }\n",
       "\n",
       "    .dataframe thead th {\n",
       "        text-align: right;\n",
       "    }\n",
       "</style>\n",
       "<table border=\"1\" class=\"dataframe\">\n",
       "  <thead>\n",
       "    <tr style=\"text-align: right;\">\n",
       "      <th></th>\n",
       "      <th>date_string</th>\n",
       "      <th>eur_to_usd</th>\n",
       "      <th>gbp_to_usd</th>\n",
       "      <th>date</th>\n",
       "      <th>diff_euro</th>\n",
       "      <th>lag_euro</th>\n",
       "      <th>growth_euro</th>\n",
       "      <th>bool_cond</th>\n",
       "    </tr>\n",
       "  </thead>\n",
       "  <tbody>\n",
       "    <tr>\n",
       "      <th>0</th>\n",
       "      <td>Monday, Jan 04, 1999</td>\n",
       "      <td>1.6581</td>\n",
       "      <td>1.1812</td>\n",
       "      <td>1999-01-04</td>\n",
       "      <td>NaN</td>\n",
       "      <td>NaN</td>\n",
       "      <td>NaN</td>\n",
       "      <td>False</td>\n",
       "    </tr>\n",
       "    <tr>\n",
       "      <th>1</th>\n",
       "      <td>Tuesday, Jan 05, 1999</td>\n",
       "      <td>1.6566</td>\n",
       "      <td>1.1760</td>\n",
       "      <td>1999-01-05</td>\n",
       "      <td>-0.0015</td>\n",
       "      <td>1.6581</td>\n",
       "      <td>-0.090465</td>\n",
       "      <td>False</td>\n",
       "    </tr>\n",
       "    <tr>\n",
       "      <th>2</th>\n",
       "      <td>Wednesday, Jan 06, 1999</td>\n",
       "      <td>1.6547</td>\n",
       "      <td>1.1636</td>\n",
       "      <td>1999-01-06</td>\n",
       "      <td>-0.0019</td>\n",
       "      <td>1.6566</td>\n",
       "      <td>-0.114693</td>\n",
       "      <td>False</td>\n",
       "    </tr>\n",
       "    <tr>\n",
       "      <th>3</th>\n",
       "      <td>Thursday, Jan 07, 1999</td>\n",
       "      <td>1.6495</td>\n",
       "      <td>1.1672</td>\n",
       "      <td>1999-01-07</td>\n",
       "      <td>-0.0052</td>\n",
       "      <td>1.6547</td>\n",
       "      <td>-0.314256</td>\n",
       "      <td>False</td>\n",
       "    </tr>\n",
       "    <tr>\n",
       "      <th>4</th>\n",
       "      <td>Friday, Jan 08, 1999</td>\n",
       "      <td>1.6405</td>\n",
       "      <td>1.1554</td>\n",
       "      <td>1999-01-08</td>\n",
       "      <td>-0.0090</td>\n",
       "      <td>1.6495</td>\n",
       "      <td>-0.545620</td>\n",
       "      <td>False</td>\n",
       "    </tr>\n",
       "    <tr>\n",
       "      <th>...</th>\n",
       "      <td>...</td>\n",
       "      <td>...</td>\n",
       "      <td>...</td>\n",
       "      <td>...</td>\n",
       "      <td>...</td>\n",
       "      <td>...</td>\n",
       "      <td>...</td>\n",
       "      <td>...</td>\n",
       "    </tr>\n",
       "    <tr>\n",
       "      <th>6320</th>\n",
       "      <td>Monday, Mar 27, 2023</td>\n",
       "      <td>1.2278</td>\n",
       "      <td>1.0789</td>\n",
       "      <td>2023-03-27</td>\n",
       "      <td>0.0053</td>\n",
       "      <td>1.2225</td>\n",
       "      <td>0.433538</td>\n",
       "      <td>False</td>\n",
       "    </tr>\n",
       "    <tr>\n",
       "      <th>6321</th>\n",
       "      <td>Tuesday, Mar 28, 2023</td>\n",
       "      <td>1.2341</td>\n",
       "      <td>1.0844</td>\n",
       "      <td>2023-03-28</td>\n",
       "      <td>0.0063</td>\n",
       "      <td>1.2278</td>\n",
       "      <td>0.513113</td>\n",
       "      <td>False</td>\n",
       "    </tr>\n",
       "    <tr>\n",
       "      <th>6322</th>\n",
       "      <td>Wednesday, Mar 29, 2023</td>\n",
       "      <td>1.2313</td>\n",
       "      <td>1.0826</td>\n",
       "      <td>2023-03-29</td>\n",
       "      <td>-0.0028</td>\n",
       "      <td>1.2341</td>\n",
       "      <td>-0.226886</td>\n",
       "      <td>False</td>\n",
       "    </tr>\n",
       "    <tr>\n",
       "      <th>6323</th>\n",
       "      <td>Thursday, Mar 30, 2023</td>\n",
       "      <td>1.2368</td>\n",
       "      <td>1.0899</td>\n",
       "      <td>2023-03-30</td>\n",
       "      <td>0.0055</td>\n",
       "      <td>1.2313</td>\n",
       "      <td>0.446682</td>\n",
       "      <td>False</td>\n",
       "    </tr>\n",
       "    <tr>\n",
       "      <th>6324</th>\n",
       "      <td>Friday, Mar 31, 2023</td>\n",
       "      <td>1.2369</td>\n",
       "      <td>1.0872</td>\n",
       "      <td>2023-03-31</td>\n",
       "      <td>0.0001</td>\n",
       "      <td>1.2368</td>\n",
       "      <td>0.008085</td>\n",
       "      <td>False</td>\n",
       "    </tr>\n",
       "  </tbody>\n",
       "</table>\n",
       "<p>6325 rows × 8 columns</p>\n",
       "</div>"
      ],
      "text/plain": [
       "                  date_string  eur_to_usd  gbp_to_usd       date  diff_euro  \\\n",
       "0        Monday, Jan 04, 1999      1.6581      1.1812 1999-01-04        NaN   \n",
       "1       Tuesday, Jan 05, 1999      1.6566      1.1760 1999-01-05    -0.0015   \n",
       "2     Wednesday, Jan 06, 1999      1.6547      1.1636 1999-01-06    -0.0019   \n",
       "3      Thursday, Jan 07, 1999      1.6495      1.1672 1999-01-07    -0.0052   \n",
       "4        Friday, Jan 08, 1999      1.6405      1.1554 1999-01-08    -0.0090   \n",
       "...                       ...         ...         ...        ...        ...   \n",
       "6320     Monday, Mar 27, 2023      1.2278      1.0789 2023-03-27     0.0053   \n",
       "6321    Tuesday, Mar 28, 2023      1.2341      1.0844 2023-03-28     0.0063   \n",
       "6322  Wednesday, Mar 29, 2023      1.2313      1.0826 2023-03-29    -0.0028   \n",
       "6323   Thursday, Mar 30, 2023      1.2368      1.0899 2023-03-30     0.0055   \n",
       "6324     Friday, Mar 31, 2023      1.2369      1.0872 2023-03-31     0.0001   \n",
       "\n",
       "      lag_euro  growth_euro  bool_cond  \n",
       "0          NaN          NaN      False  \n",
       "1       1.6581    -0.090465      False  \n",
       "2       1.6566    -0.114693      False  \n",
       "3       1.6547    -0.314256      False  \n",
       "4       1.6495    -0.545620      False  \n",
       "...        ...          ...        ...  \n",
       "6320    1.2225     0.433538      False  \n",
       "6321    1.2278     0.513113      False  \n",
       "6322    1.2341    -0.226886      False  \n",
       "6323    1.2313     0.446682      False  \n",
       "6324    1.2368     0.008085      False  \n",
       "\n",
       "[6325 rows x 8 columns]"
      ]
     },
     "execution_count": 33,
     "metadata": {},
     "output_type": "execute_result"
    }
   ],
   "source": [
    "currencies"
   ]
  },
  {
   "attachments": {},
   "cell_type": "markdown",
   "metadata": {},
   "source": [
    "<font size = \"5\">\n",
    "\n",
    "(b) Plot multiple time series\n",
    "\n",
    "<font size = \"3\">\n",
    "\n",
    "- Create a line plot plot which has the \"gbp_to_usd\" and \"eur_to_usd\" on the y-axis <br>\n",
    "and the date on the x-axis\n",
    "- Label the x-axis, the y-axis, and the title\n",
    "- Add a legend and set the names to \"1 Euro to USD\" and \"1 GPB to USD\"\n",
    "\n",
    "Hint: See Lecture 21 for how to plot multiple columns <br>\n",
    "Hint: Remember to include the legend names as a list ```[...]```\n"
   ]
  },
  {
   "cell_type": "code",
   "execution_count": 30,
   "metadata": {},
   "outputs": [
    {
     "data": {
      "text/plain": [
       "<matplotlib.legend.Legend at 0x11f9b8dd0>"
      ]
     },
     "execution_count": 30,
     "metadata": {},
     "output_type": "execute_result"
    },
    {
     "data": {
      "image/png": "[encoded data removed]",
      "text/plain": [
       "<Figure size 640x480 with 1 Axes>"
      ]
     },
     "metadata": {},
     "output_type": "display_data"
    }
   ],
   "source": [
    "# Write your own code\n",
    "currencies[[\"date\",\"gbp_to_usd\",\"eur_to_usd\"]].set_index(\"date\").plot()\n",
    "plt.xlabel(\"Time\")\n",
    "plt.ylabel(\"currency exchange rate\")\n",
    "plt.title(\"Currency to USD\")\n",
    "plt.legend([\"1 GPB to USD\",\"1 Euro to USD\"])"
   ]
  },
  {
   "attachments": {},
   "cell_type": "markdown",
   "metadata": {},
   "source": [
    "<font size = \"5\">\n",
    "\n",
    "(c) Compute growth rates\n",
    "\n",
    "<font size = \"3\">\n",
    "\n",
    "- Calculate a new column \"growth_euro\" which computes the percentage daily <br>\n",
    "growth rate of \"eur_to_usd\".\n",
    "\n",
    "Hint: Use ```.diff()``` and ```.shift(1)``` as in Lecture 21"
   ]
  },
  {
   "cell_type": "code",
   "execution_count": 14,
   "metadata": {},
   "outputs": [],
   "source": [
    "# Write your own code\n",
    "currencies[\"diff_euro\"] = currencies[\"eur_to_usd\"].diff()\n",
    "currencies[\"lag_euro\"] = currencies[\"eur_to_usd\"].shift(1)\n",
    "currencies[\"growth_euro\"] = (currencies[\"diff_euro\"]/currencies[\"lag_euro\"])* 100"
   ]
  },
  {
   "attachments": {},
   "cell_type": "markdown",
   "metadata": {},
   "source": [
    "<font size = \"5\">\n",
    "\n",
    "(d) Flag subset of data and plot\n",
    "\n",
    "<font size = \"3\">\n",
    "\n",
    "- Create a boolean colum (True/False) \"bool_cond\" which checks whether <br>\n",
    "\"growth_euro\" had a value greater than 2 or less than -2\n",
    "- Generate a line plot with the \"growth_euro\" series, label the axes and the title\n",
    "- Use the command ```plt.fill_between()``` as in Lecture 21 to create a shaded region <br>\n",
    "for time periods where \"bool_cond\" is true.\n",
    "\n"
   ]
  },
  {
   "cell_type": "code",
   "execution_count": 16,
   "metadata": {},
   "outputs": [],
   "source": [
    "# Write your own code\n",
    "currencies[\"bool_cond\"] = (currencies[\"growth_euro\"]>2) | (currencies[\"growth_euro\"]<-2)"
   ]
  },
  {
   "cell_type": "code",
   "execution_count": 31,
   "metadata": {},
   "outputs": [
    {
     "data": {
      "image/png": "[encoded data removed]",
      "text/plain": [
       "<Figure size 640x480 with 1 Axes>"
      ]
     },
     "metadata": {},
     "output_type": "display_data"
    }
   ],
   "source": [
    "plt.plot(\"date\", \"growth_euro\", data = currencies)\n",
    "plt.xlabel(\"Time\")\n",
    "plt.ylabel(\"percentage change \")\n",
    "plt.title(\"The change of Euro over years\")\n",
    "\n",
    "vec_y = currencies[\"growth_euro\"]\n",
    "plt.fill_between(x= currencies[\"date\"],\n",
    "                 y1 = vec_y.min(),\n",
    "                 y2 = vec_y.max(),\n",
    "                 where = currencies[\"bool_cond\"],\n",
    "                 alpha = 0.2,color = \"red\")\n",
    "\n",
    "plt.show()"
   ]
  },
  {
   "attachments": {},
   "cell_type": "markdown",
   "metadata": {},
   "source": [
    "<font size = \"5\">\n",
    "\n",
    "(e) Aggregate dataset by time period\n",
    "\n",
    "<font size = \"3\">\n",
    "\n",
    "- Create an object \"month_config\" that uses ```pd.Grouper()```, setting the key to <br>\n",
    "the column \"date\" and freq to \"m\" (month)\n",
    "- Follow the instructions in Lecture 20 to compute an aggregate dataset <br>\n",
    "by month which computes the standard deviation of \"eur_to_usd\"\n",
    "- Display the dataset\n",
    "\n",
    "\n"
   ]
  },
  {
   "cell_type": "code",
   "execution_count": 20,
   "metadata": {},
   "outputs": [],
   "source": [
    "# Write your own code\n",
    "month_config = pd.Grouper(key='date', freq='m') "
   ]
  },
  {
   "cell_type": "code",
   "execution_count": 21,
   "metadata": {},
   "outputs": [],
   "source": [
    "monthlydata = (currencies\n",
    "               .groupby(month_config) \n",
    "               .agg(std_eur_to_usd = (\"eur_to_usd\",\"std\"))\n",
    "               .reset_index())"
   ]
  },
  {
   "cell_type": "code",
   "execution_count": 36,
   "metadata": {},
   "outputs": [
    {
     "data": {
      "text/html": [
       "<div>\n",
       "<style scoped>\n",
       "    .dataframe tbody tr th:only-of-type {\n",
       "        vertical-align: middle;\n",
       "    }\n",
       "\n",
       "    .dataframe tbody tr th {\n",
       "        vertical-align: top;\n",
       "    }\n",
       "\n",
       "    .dataframe thead th {\n",
       "        text-align: right;\n",
       "    }\n",
       "</style>\n",
       "<table border=\"1\" class=\"dataframe\">\n",
       "  <thead>\n",
       "    <tr style=\"text-align: right;\">\n",
       "      <th></th>\n",
       "      <th>date</th>\n",
       "      <th>std_eur_to_usd</th>\n",
       "    </tr>\n",
       "  </thead>\n",
       "  <tbody>\n",
       "    <tr>\n",
       "      <th>0</th>\n",
       "      <td>1999-01-31</td>\n",
       "      <td>0.007345</td>\n",
       "    </tr>\n",
       "    <tr>\n",
       "      <th>1</th>\n",
       "      <td>1999-02-28</td>\n",
       "      <td>0.013345</td>\n",
       "    </tr>\n",
       "    <tr>\n",
       "      <th>2</th>\n",
       "      <td>1999-03-31</td>\n",
       "      <td>0.010475</td>\n",
       "    </tr>\n",
       "    <tr>\n",
       "      <th>3</th>\n",
       "      <td>1999-04-30</td>\n",
       "      <td>0.006172</td>\n",
       "    </tr>\n",
       "    <tr>\n",
       "      <th>4</th>\n",
       "      <td>1999-05-31</td>\n",
       "      <td>0.013046</td>\n",
       "    </tr>\n",
       "    <tr>\n",
       "      <th>...</th>\n",
       "      <td>...</td>\n",
       "      <td>...</td>\n",
       "    </tr>\n",
       "    <tr>\n",
       "      <th>286</th>\n",
       "      <td>2022-11-30</td>\n",
       "      <td>0.027308</td>\n",
       "    </tr>\n",
       "    <tr>\n",
       "      <th>287</th>\n",
       "      <td>2022-12-31</td>\n",
       "      <td>0.011389</td>\n",
       "    </tr>\n",
       "    <tr>\n",
       "      <th>288</th>\n",
       "      <td>2023-01-31</td>\n",
       "      <td>0.015046</td>\n",
       "    </tr>\n",
       "    <tr>\n",
       "      <th>289</th>\n",
       "      <td>2023-02-28</td>\n",
       "      <td>0.008972</td>\n",
       "    </tr>\n",
       "    <tr>\n",
       "      <th>290</th>\n",
       "      <td>2023-03-31</td>\n",
       "      <td>0.016246</td>\n",
       "    </tr>\n",
       "  </tbody>\n",
       "</table>\n",
       "<p>291 rows × 2 columns</p>\n",
       "</div>"
      ],
      "text/plain": [
       "          date  std_eur_to_usd\n",
       "0   1999-01-31        0.007345\n",
       "1   1999-02-28        0.013345\n",
       "2   1999-03-31        0.010475\n",
       "3   1999-04-30        0.006172\n",
       "4   1999-05-31        0.013046\n",
       "..         ...             ...\n",
       "286 2022-11-30        0.027308\n",
       "287 2022-12-31        0.011389\n",
       "288 2023-01-31        0.015046\n",
       "289 2023-02-28        0.008972\n",
       "290 2023-03-31        0.016246\n",
       "\n",
       "[291 rows x 2 columns]"
      ]
     },
     "execution_count": 36,
     "metadata": {},
     "output_type": "execute_result"
    }
   ],
   "source": [
    "monthlydata"
   ]
  },
  {
   "attachments": {},
   "cell_type": "markdown",
   "metadata": {},
   "source": [
    "<font size = \"5\">\n",
    "\n",
    "(f) Convert a dataset to long format\n",
    "\n",
    "<font size = \"3\">\n",
    "\n",
    "- Convert the currencies dataset to long format using the following inputs\n",
    "\n",
    "```\n",
    "var_name   = \"type\",\n",
    "value_name = \"exchange_rate\",\n",
    "id_vars    = \"date\",\n",
    "value_vars = [\"eur_to_usd\",\"gbp_to_usd\"]\n",
    "```\n",
    "\n",
    "- Display the dataset\n",
    "\n",
    "Hint: See Lecture 21 for details on ```pd.melt()```"
   ]
  },
  {
   "cell_type": "code",
   "execution_count": 23,
   "metadata": {},
   "outputs": [],
   "source": [
    "# Write your own code\n",
    "currencies_long = pd.melt(currencies,\n",
    "                         var_name   = \"type\",\n",
    "                         value_name = \"exchange_rate\",\n",
    "                         id_vars='date',\n",
    "                         value_vars=['eur_to_usd','gbp_to_usd'])"
   ]
  },
  {
   "cell_type": "code",
   "execution_count": 24,
   "metadata": {},
   "outputs": [
    {
     "data": {
      "text/html": [
       "<div>\n",
       "<style scoped>\n",
       "    .dataframe tbody tr th:only-of-type {\n",
       "        vertical-align: middle;\n",
       "    }\n",
       "\n",
       "    .dataframe tbody tr th {\n",
       "        vertical-align: top;\n",
       "    }\n",
       "\n",
       "    .dataframe thead th {\n",
       "        text-align: right;\n",
       "    }\n",
       "</style>\n",
       "<table border=\"1\" class=\"dataframe\">\n",
       "  <thead>\n",
       "    <tr style=\"text-align: right;\">\n",
       "      <th></th>\n",
       "      <th>date</th>\n",
       "      <th>type</th>\n",
       "      <th>exchange_rate</th>\n",
       "    </tr>\n",
       "  </thead>\n",
       "  <tbody>\n",
       "    <tr>\n",
       "      <th>0</th>\n",
       "      <td>1999-01-04</td>\n",
       "      <td>eur_to_usd</td>\n",
       "      <td>1.6581</td>\n",
       "    </tr>\n",
       "    <tr>\n",
       "      <th>1</th>\n",
       "      <td>1999-01-05</td>\n",
       "      <td>eur_to_usd</td>\n",
       "      <td>1.6566</td>\n",
       "    </tr>\n",
       "    <tr>\n",
       "      <th>2</th>\n",
       "      <td>1999-01-06</td>\n",
       "      <td>eur_to_usd</td>\n",
       "      <td>1.6547</td>\n",
       "    </tr>\n",
       "    <tr>\n",
       "      <th>3</th>\n",
       "      <td>1999-01-07</td>\n",
       "      <td>eur_to_usd</td>\n",
       "      <td>1.6495</td>\n",
       "    </tr>\n",
       "    <tr>\n",
       "      <th>4</th>\n",
       "      <td>1999-01-08</td>\n",
       "      <td>eur_to_usd</td>\n",
       "      <td>1.6405</td>\n",
       "    </tr>\n",
       "    <tr>\n",
       "      <th>...</th>\n",
       "      <td>...</td>\n",
       "      <td>...</td>\n",
       "      <td>...</td>\n",
       "    </tr>\n",
       "    <tr>\n",
       "      <th>12645</th>\n",
       "      <td>2023-03-27</td>\n",
       "      <td>gbp_to_usd</td>\n",
       "      <td>1.0789</td>\n",
       "    </tr>\n",
       "    <tr>\n",
       "      <th>12646</th>\n",
       "      <td>2023-03-28</td>\n",
       "      <td>gbp_to_usd</td>\n",
       "      <td>1.0844</td>\n",
       "    </tr>\n",
       "    <tr>\n",
       "      <th>12647</th>\n",
       "      <td>2023-03-29</td>\n",
       "      <td>gbp_to_usd</td>\n",
       "      <td>1.0826</td>\n",
       "    </tr>\n",
       "    <tr>\n",
       "      <th>12648</th>\n",
       "      <td>2023-03-30</td>\n",
       "      <td>gbp_to_usd</td>\n",
       "      <td>1.0899</td>\n",
       "    </tr>\n",
       "    <tr>\n",
       "      <th>12649</th>\n",
       "      <td>2023-03-31</td>\n",
       "      <td>gbp_to_usd</td>\n",
       "      <td>1.0872</td>\n",
       "    </tr>\n",
       "  </tbody>\n",
       "</table>\n",
       "<p>12650 rows × 3 columns</p>\n",
       "</div>"
      ],
      "text/plain": [
       "            date        type  exchange_rate\n",
       "0     1999-01-04  eur_to_usd         1.6581\n",
       "1     1999-01-05  eur_to_usd         1.6566\n",
       "2     1999-01-06  eur_to_usd         1.6547\n",
       "3     1999-01-07  eur_to_usd         1.6495\n",
       "4     1999-01-08  eur_to_usd         1.6405\n",
       "...          ...         ...            ...\n",
       "12645 2023-03-27  gbp_to_usd         1.0789\n",
       "12646 2023-03-28  gbp_to_usd         1.0844\n",
       "12647 2023-03-29  gbp_to_usd         1.0826\n",
       "12648 2023-03-30  gbp_to_usd         1.0899\n",
       "12649 2023-03-31  gbp_to_usd         1.0872\n",
       "\n",
       "[12650 rows x 3 columns]"
      ]
     },
     "execution_count": 24,
     "metadata": {},
     "output_type": "execute_result"
    }
   ],
   "source": [
    "currencies_long"
   ]
  }
 ],
 "metadata": {
  "kernelspec": {
   "display_name": "base",
   "language": "python",
   "name": "python3"
  },
  "language_info": {
   "codemirror_mode": {
    "name": "ipython",
    "version": 3
   },
   "file_extension": ".py",
   "mimetype": "text/x-python",
   "name": "python",
   "nbconvert_exporter": "python",
   "pygments_lexer": "ipython3",
   "version": "3.11.6"
  },
  "orig_nbformat": 4,
  "vscode": {
   "interpreter": {
    "hash": "45fc1f684f6f416f40889115beff3ddf69879b64cf4bfee48cb72a61e9d15d1a"
   }
  }
 },
 "nbformat": 4,
 "nbformat_minor": 2
}
